{
 "cells": [
  {
   "cell_type": "code",
   "execution_count": null,
   "metadata": {},
   "outputs": [],
   "source": [
    "###··· RING MERGED DATASET ···### \n",
    "import pandas as pd\n",
    "from matplotlib import pyplot as plt\n",
    "from seaborn import heatmap\n",
    "from sklearn.preprocessing import MinMaxScaler\n",
    "from sklearn.model_selection import GridSearchCV\n",
    "from sklearn.metrics import *\n",
    "\n",
    "# Part 1: Selecting and analyzing the dataset \n",
    "# #Load the dataset\n",
    "ring_separable = pd.read_csv(\"A2-ring\\A2-ring-separable.txt\", sep='\\t', header=None)\n",
    "ring_separable.columns = [\"X\", \"Y\", \"Result\"]\n",
    "# Select the columns\n",
    "x_train_unscaled = ring_separable[[\"X\", \"Y\"]]\n",
    "y_train = ring_separable[[\"Result\"]]\n",
    "\n",
    "ring_test = pd.read_csv(\"A2-ring\\A2-ring-test.txt\", sep='\\t', header=None)\n",
    "ring_test.columns = [\"X\", \"Y\", \"Result\"]\n",
    "# Select the columns\n",
    "x_test_unscaled = ring_test[[\"X\", \"Y\"]]\n",
    "y_test = ring_test[[\"Result\"]]\n",
    "\n",
    "# Scale the dat\n",
    "scaler = MinMaxScaler()\n",
    "scaler.fit(x_train_unscaled)\n",
    "x_train = scaler.transform(x_train_unscaled)\n",
    "x_test = scaler.transform(x_test_unscaled)\n",
    "\n",
    "plt.scatter(x_train_unscaled[\"X\"], x_train_unscaled[\"Y\"], c=y_train[\"Result\"].map({0: 'blue', 1: 'orange'}), marker=\"o\")\n",
    "plt.xlabel(\"X\")\n",
    "plt.ylabel(\"Y\")\n",
    "plt.title(\"Scatter Plot ring separated\")\n",
    "plt.show()"
   ]
  },
  {
   "cell_type": "code",
   "execution_count": null,
   "metadata": {},
   "outputs": [],
   "source": [
    "###---Part 2.a: Implement a tensorflow BP model---#\n",
    "import tensorflow as tf\n",
    "from tensorflow import keras as keras\n",
    "from scikeras.wrappers import KerasClassifier\n",
    "tf.get_logger().setLevel('ERROR')\n",
    "\n",
    "# Create the model\n",
    "model = keras.models.Sequential([\n",
    "    keras.layers.Dense(10, input_shape=(x_train.shape[1],), activation='relu'),\n",
    "    keras.layers.Dense(5, activation='relu'),\n",
    "    keras.layers.Dense(1, activation='sigmoid')\n",
    "])\n",
    "model.compile(optimizer='adam', loss='binary_crossentropy', metrics=['accuracy'])\n",
    "cv_model = KerasClassifier(model=model, verbose=0)\n",
    "# Perform cross-validation\n",
    "grid = GridSearchCV(estimator=cv_model,\n",
    "                    param_grid= {'epochs': [30],'optimizer__learning_rate': [0.001, 0.01, 0.1], 'optimizer__emu_momentum': [0.1, 0.01, 0.001]},\n",
    "                    cv=5, \n",
    "                    scoring='accuracy')"
   ]
  },
  {
   "cell_type": "code",
   "execution_count": null,
   "metadata": {},
   "outputs": [],
   "source": [
    "###···Part 2.b: Implement MLR ···###\n",
    "import sklearn.linear_model as linear_model\n",
    "# Create the model\n",
    "model = linear_model.LogisticRegressionCV(max_iter=10000)\n",
    "# Perform cross-validation\n",
    "grid = GridSearchCV(estimator=model,\n",
    "                    param_grid= {'Cs': [1, 10], 'solver': ['newton-cg', 'lbfgs','saga']},\n",
    "                    cv=5, \n",
    "                    scoring='accuracy')"
   ]
  },
  {
   "cell_type": "code",
   "execution_count": null,
   "metadata": {},
   "outputs": [],
   "source": [
    "###···Part 2.c: Implement SVM ···###\n",
    "import sklearn.svm as svm\n",
    "# Create the model\n",
    "model = svm.SVC()\n",
    "grid = GridSearchCV(estimator=model,\n",
    "                    param_grid= {'C': [0.1, 1, 10], 'gamma': [1, 0.1, 0.01], 'kernel': ['rbf', 'linear']},\n",
    "                    cv=5, \n",
    "                    scoring='accuracy')"
   ]
  },
  {
   "cell_type": "code",
   "execution_count": null,
   "metadata": {},
   "outputs": [],
   "source": [
    "#---Part 3: Evaluate the model and summarize results---#\n",
    "# Fit the model\n",
    "grid.fit(x_train, y_train.values.ravel())\n",
    "# summarize results\n",
    "print(\"Best: %f using %s\" % (grid.best_score_, grid.best_params_))\n",
    "print(\"Classification error: \", 1 - grid.best_score_)\n",
    "# Predict the response for test dataset\n",
    "y_train_pred = grid.predict(x_train)\n",
    "y_test_pred = grid.predict(x_test)\n",
    "\n",
    "print(\"---Train---\")\n",
    "print(\"Accuracy Score: \", accuracy_score(y_train, y_train_pred))\n",
    "print(\"---Test---\")\n",
    "print(\"Accuracy Score: \", accuracy_score(y_test, y_test_pred))\n",
    "\n",
    "# Generate the confusion matrix\n",
    "\n",
    "confusion = confusion_matrix(y_test, y_test_pred, labels=[0, 1])\n",
    "print(confusion)\n",
    "\n",
    "# Plot the confusion matrix\n",
    "plt.figure(figsize=(8, 6))\n",
    "heatmap(confusion, annot=True, cmap='Blues', fmt='g')\n",
    "plt.xlabel('Predicted')\n",
    "plt.ylabel('Actual')\n",
    "plt.title('Confusion Matrix test')\n",
    "plt.show()"
   ]
  }
 ],
 "metadata": {
  "kernelspec": {
   "display_name": "Python 3",
   "language": "python",
   "name": "python3"
  },
  "language_info": {
   "codemirror_mode": {
    "name": "ipython",
    "version": 3
   },
   "file_extension": ".py",
   "mimetype": "text/x-python",
   "name": "python",
   "nbconvert_exporter": "python",
   "pygments_lexer": "ipython3",
   "version": "3.11.6"
  }
 },
 "nbformat": 4,
 "nbformat_minor": 2
}
