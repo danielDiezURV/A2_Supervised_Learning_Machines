{
 "cells": [
  {
   "cell_type": "code",
   "execution_count": 1,
   "metadata": {},
   "outputs": [],
   "source": [
    "###··· BANK DATASET ···### \n",
    "import pandas as pd\n",
    "from matplotlib import pyplot as plt\n",
    "from sklearn.preprocessing import MinMaxScaler\n",
    "from sklearn.model_selection import train_test_split\n",
    "from sklearn.metrics import *\n",
    "\n",
    "# Part 1: Selecting and analyzing the dataset \n",
    "# #Load the dataset\n",
    "bank_dataset = pd.read_csv(\"A2-bank/bank-additional.csv\", sep=';', header=0)\n",
    "#Drop unnused columns\n",
    "bank_dataset.drop([\"default\", \"day_of_week\",\"pdays\"], axis=1, inplace=True)\n",
    "\n",
    "#Replace unknown values with the mode\n",
    "for column in [\"marital\", \"job\", \"education\", \"housing\", \"loan\"]:\n",
    "    bank_dataset[column].replace(\"unknown\", bank_dataset[column].mode()[0], inplace=True)\n",
    "\n",
    "#Give a numerical value to the categorical data\n",
    "columns_to_factorize = [\"job\", \"marital\", \"education\", \"housing\", \"loan\", \"contact\", \"month\", \"poutcome\", \"y\"]\n",
    "for column in columns_to_factorize:\n",
    "    bank_dataset[column], _ = pd.factorize(bank_dataset[column])\n",
    "\n",
    "\n",
    "x_train = bank_dataset[[\"job\", \"marital\", \"education\", \"housing\", \"loan\", \"contact\", \"month\", \"duration\", \"campaign\", \"previous\", \"poutcome\", \"emp.var.rate\", \"cons.price.idx\", \"cons.conf.idx\", \"euribor3m\", \"nr.employed\"]]\n",
    "y_train = bank_dataset[[\"y\"]]\n",
    "\n",
    "# Scale the dat\n",
    "scaler = MinMaxScaler()\n",
    "x_train_scaled = scaler.fit_transform(x_train)\n",
    "\n",
    "x_train, x_test, y_train, y_test = train_test_split(x_train_scaled, y_train, test_size=0.2, shuffle=True)"
   ]
  },
  {
   "cell_type": "code",
   "execution_count": 5,
   "metadata": {},
   "outputs": [],
   "source": [
    "import tensorflow as tf\n",
    "from tensorflow import keras as keras\n",
    "from sklearn.model_selection import GridSearchCV\n",
    "from matplotlib import pyplot as plt\n",
    "from scikeras.wrappers import KerasClassifier\n",
    "tf.get_logger().setLevel('ERROR')\n",
    "\n",
    "# Create the model\n",
    "model = keras.models.Sequential([\n",
    "    keras.layers.Dense(10, input_shape=(x_train.shape[1],), activation='relu'),\n",
    "    keras.layers.Dense(5, activation='relu'),\n",
    "    keras.layers.Dense(1, activation='sigmoid')\n",
    "])\n",
    "model.compile(optimizer='adam', loss='binary_crossentropy', metrics=['accuracy'])\n",
    "cv_model = KerasClassifier(model=model, verbose=0)\n",
    "# Perform cross-validation\n",
    "grid = GridSearchCV(estimator=cv_model,\n",
    "                    param_grid= {'epochs' : [20,50], 'optimizer__learning_rate': [0.1, 0.01, 0.001], 'optimizer__momentum' :[0.0, 0.1, 0.01, 0.001]},\n",
    "                    cv=5, \n",
    "                    scoring='accuracy')\n",
    "grid_result = grid.fit(x_train, y_train.values.ravel())\n",
    "# summarize results\n",
    "print(\"Best: %f using %s\" % (grid_result.best_score_, grid_result.best_params_))\n",
    "print(grid_result.mean())\n",
    "\n",
    "plt.plot(grid_result, marker='o')\n",
    "plt.title('Model accuracy (Cross-Validation)')\n",
    "plt.ylabel('Accuracy')\n",
    "plt.xlabel('Fold')\n",
    "plt.show()"
   ]
  },
  {
   "cell_type": "code",
   "execution_count": null,
   "metadata": {},
   "outputs": [
    {
     "name": "stdout",
     "output_type": "stream",
     "text": [
      "---Train---\n",
      "Accuracy Score:  0.9143247344461305\n",
      "---Test---\n",
      "Accuracy Score:  0.9081087642631707\n",
      "[[7014  270]\n",
      " [ 487  467]]\n"
     ]
    },
    {
     "data": {
      "image/png": "[encoded data removed]",
      "text/plain": [
       "<Figure size 800x600 with 2 Axes>"
      ]
     },
     "metadata": {},
     "output_type": "display_data"
    }
   ],
   "source": [
    "from sklearn.metrics import *\n",
    "from matplotlib import pyplot as plt\n",
    "from seaborn import heatmap\n",
    "from sklearn.metrics import confusion_matrix\n",
    "import numpy as np\n",
    "\n",
    "# Part 3: Obtaining predictions\n",
    "y_train_pred = (model.predict(x_train, verbose=0)[:, 0] > 0.5).astype(np.int8)\n",
    "y_test_pred = (model.predict(x_test, verbose=0)[:, 0] > 0.5).astype(np.int8)\n",
    "print(\"---Train---\")\n",
    "print(\"Accuracy Score: \", accuracy_score(y_train, y_train_pred))\n",
    "print(\"---Test---\")\n",
    "print(\"Accuracy Score: \", accuracy_score(y_test, y_test_pred))\n",
    "\n",
    "# Generate the confusion matrix\n",
    "\n",
    "confusion = confusion_matrix(y_test, y_test_pred, labels=[0, 1])\n",
    "print(confusion)\n",
    "\n",
    "# Plot the confusion matrix\n",
    "plt.figure(figsize=(8, 6))\n",
    "heatmap(confusion, annot=True, cmap='Blues', fmt='g')\n",
    "plt.xlabel('Predicted')\n",
    "plt.ylabel('Actual')\n",
    "plt.title('Confusion Matrix test')\n",
    "plt.show()\n",
    "\n",
    "\n"
   ]
  }
 ],
 "metadata": {
  "kernelspec": {
   "display_name": "Python 3",
   "language": "python",
   "name": "python3"
  },
  "language_info": {
   "codemirror_mode": {
    "name": "ipython",
    "version": 3
   },
   "file_extension": ".py",
   "mimetype": "text/x-python",
   "name": "python",
   "nbconvert_exporter": "python",
   "pygments_lexer": "ipython3",
   "version": "3.11.6"
  }
 },
 "nbformat": 4,
 "nbformat_minor": 2
}
