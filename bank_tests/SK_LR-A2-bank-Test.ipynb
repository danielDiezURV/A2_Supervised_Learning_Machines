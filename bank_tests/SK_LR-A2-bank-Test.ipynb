{
 "cells": [
  {
   "cell_type": "code",
   "execution_count": 43,
   "metadata": {},
   "outputs": [
    {
     "name": "stderr",
     "output_type": "stream",
     "text": [
      "C:\\Users\\danid\\AppData\\Local\\Packages\\PythonSoftwareFoundation.Python.3.11_qbz5n2kfra8p0\\LocalCache\\local-packages\\Python311\\site-packages\\sklearn\\utils\\validation.py:1183: DataConversionWarning: A column-vector y was passed when a 1d array was expected. Please change the shape of y to (n_samples, ), for example using ravel().\n",
      "  y = column_or_1d(y, warn=True)\n"
     ]
    }
   ],
   "source": [
    "###··· RING MERGED DATASET ···### \n",
    "import pandas as pd\n",
    "from sklearn.discriminant_analysis import StandardScaler\n",
    "from sklearn.pipeline import Pipeline\n",
    "from sklearn.preprocessing import MinMaxScaler\n",
    "from sklearn import linear_model\n",
    "from matplotlib import pyplot as plt\n",
    "from sklearn.metrics import *\n",
    "from matplotlib import pyplot as plt\n",
    "from seaborn import heatmap\n",
    "from sklearn.metrics import confusion_matrix\n",
    "import numpy as np\n",
    "\n",
    "# Part 1: Selecting and analyzing the dataset \n",
    "# #Load the dataset\n",
    "ring_merged = pd.read_csv(\"A2-ring\\A2-ring-merged.txt\", sep='\\t', header=None)\n",
    "ring_merged.columns = [\"X\", \"Y\", \"Result\"]\n",
    "# Select the first two columns\n",
    "x_t_merged = ring_merged[[\"X\", \"Y\"]]\n",
    "y_t_merged = ring_merged[[\"Result\"]]\n",
    "\n",
    "ring_test = pd.read_csv(\"A2-ring\\A2-ring-test.txt\", sep='\\t', header=None)\n",
    "ring_test.columns = [\"X\", \"Y\", \"Result\"]\n",
    "x_v = ring_test[[\"X\", \"Y\"]]\n",
    "y_v = ring_test[[\"Result\"]]\n",
    "\n",
    "# Scale the dat\n",
    "scaler = MinMaxScaler()\n",
    "scaler.fit(x_t_merged)\n",
    "x_t_merged_scaled = scaler.transform(x_t_merged)\n",
    "x_v_scaled = scaler.transform(x_v)\n",
    "\n",
    "# Part 2: Implementation of MLR\n",
    "model = linear_model.LogisticRegression()\n",
    "model.fit(x_t_merged_scaled, y_t_merged)\n",
    "\n",
    "# Part 3: Obtaining predictions\n",
    "y_pred_train = model.predict(x_t_merged_scaled)\n",
    "y_pred_test = model.predict(x_v_scaled)\n",
    "print(\"---Train---\")\n",
    "print(\"Accuracy Score: \", accuracy_score(y_t_merged, y_pred_train))\n",
    "print(\"---Test---\")\n",
    "print(\"Accuracy Score: \", accuracy_score(y_v, y_pred_test))\n",
    "\n",
    "# Generate the confusion matrix\n",
    "\n",
    "confusion = confusion_matrix(y_v, y_pred_test, labels=[0, 1])\n",
    "print(confusion)\n",
    "\n",
    "# Plot the confusion matrix\n",
    "plt.figure(figsize=(8, 6))\n",
    "heatmap(confusion, annot=True, cmap='Blues', fmt='g')\n",
    "plt.xlabel('Predicted')\n",
    "plt.ylabel('Actual')\n",
    "plt.title('Confusion Matrix test')\n",
    "plt.show()"
   ]
  }
 ],
 "metadata": {
  "kernelspec": {
   "display_name": "Python 3",
   "language": "python",
   "name": "python3"
  },
  "language_info": {
   "codemirror_mode": {
    "name": "ipython",
    "version": 3
   },
   "file_extension": ".py",
   "mimetype": "text/x-python",
   "name": "python",
   "nbconvert_exporter": "python",
   "pygments_lexer": "ipython3",
   "version": "3.11.6"
  }
 },
 "nbformat": 4,
 "nbformat_minor": 2
}
